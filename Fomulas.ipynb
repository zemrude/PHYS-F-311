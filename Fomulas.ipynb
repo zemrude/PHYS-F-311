{
 "cells": [
  {
   "cell_type": "markdown",
   "id": "314ddeaf",
   "metadata": {},
   "source": [
    "## Variables aléatoires\n",
    "\n",
    "Si $x$ est distribué comme $f(x)$:\n",
    "* $x \\sim f(x)$ (fonction de densité)\n",
    "* $P(a \\leq x \\leq b) = \\int_{a}^b f(x) dx$\n",
    "* $P(x \\leq a) = \\int_{-\\infty}^a f(x) dx = F(a)$ (fonction cumulative)\n",
    "* $\\mathrm{E}[x] = \\int_{-\\infty}^{\\infty} x f(x) dx = <x> = x_v$\n",
    "* $\\mathrm{Var}[x] = \\mathrm{E}[(x-\\mathrm{E}[x])^2] = \\mathrm{E}[x^2] - \\mathrm{E}[x]^2 = \\int_{-\\infty}^{\\infty} (x-<x>)^2 f(x) dx = \\sigma^2$ "
   ]
  },
  {
   "cell_type": "markdown",
   "id": "2dab9697",
   "metadata": {},
   "source": [
    "## Estimation sur des données\n",
    "\n",
    "Mais $f(x)$ n'est pas toujours connu, il faut l'estimer à partir des données.\n",
    "* Une série discrète avec $N$ événements\n",
    "* Moyenne et variance empirique:\n",
    "\n",
    "$$\\bar{x} = \\sum_i x_i P_i = \\sum_i x_i \\frac{1}{N} = \\frac{1}{N} \\sum_i x_i \\neq <x> = x_v$$\n",
    "\n",
    "$$s^2 = \\sum_i P_i (x_i-<x>)^2 = \\sum_i \\frac{1}{N} (x_i-<x>)^2 \\approx \\sum_i \\frac{1}{N} (x_i-\\bar{x})^2 \\neq \\sigma^2$$\n",
    "\n",
    "Cet estimateur est biaisé, car $\\bar{x}$ au lieu de $<x>$. La version non-baisée est:\n",
    "\n",
    "$$s^2 = \\sum_i \\frac{1}{N-1} (x_i-\\bar{x})^2$$\n",
    "* Notation pour les estimateurs: $\\hat{\\theta}$"
   ]
  },
  {
   "cell_type": "markdown",
   "id": "9366cb4c",
   "metadata": {},
   "source": [
    "## Estimateurs\n",
    "\n",
    "Mais $\\bar{x}$ et $s$ sont elles-mêmes des variables aléatoires.\n",
    "* Prenons la série $x_i$ avec $N$ échantillions d'espérance $\\mu$ et d'écart-type $\\sigma$\n",
    "* Alors\n",
    "\n",
    "$$\\mathrm{Var}[\\bar{x}] = \\mathrm{E}[\\bar{x}^2]-\\mathrm{E}[\\bar{x}]^2 = \\mathrm{E}\\left[\\left(\\frac{1}{N} \\sum_i x_i\\right) \\left(\\frac{1}{N} \\sum_j x_j\\right)\\right] - \\mu^2 = \\frac{1}{N^2} \\sum_{i,j} \\mathrm{E}\\left[x_ix_j\\right] - \\mu^2$$\n",
    "\n",
    "$\\mathrm{E}[x_i^2] = \\mu^2 + \\sigma^2; \\mathrm{E}[x_ix_j] = \\mu^2$\n",
    "\n",
    "$$\\mathrm{Var}[\\bar{x}] = \\frac{1}{N^2} \\left[(N^2 - N)\\mu^2 + N(\\mu^2 + \\sigma^2)\\right] - \\mu^2 = \\frac{\\sigma^2}{N} \\approx \\frac{s^2}{N}$$\n",
    "\n",
    "* Ceci nous donne l'incertitude sur la moyenne arithmétique sans ajustement."
   ]
  },
  {
   "cell_type": "markdown",
   "id": "673d5af3",
   "metadata": {},
   "source": [
    "## Hit & Miss\n",
    "\n",
    "Il existe généralement un générateur uniforme en 0 et 1.\n",
    "\n",
    "* $\\varepsilon_1 \\in [0;1[ \\rightarrow y \\in [0; y_{max}[, y = \\varepsilon_1 y_{max}$\n",
    "* $\\varepsilon_2 \\in [0;1[ \\rightarrow x \\in [x_{min}; x_{max}[, x = \\varepsilon_2 (x_{max} - x_{min}) + x_{min}$\n",
    "\n",
    "Si:\n",
    "\n",
    "* $f(x) < y \\Rightarrow \\mathrm{Miss}$\n",
    "* $f(x) \\geq y \\Rightarrow \\mathrm{Hit}$"
   ]
  },
  {
   "cell_type": "markdown",
   "id": "7bdfedbd",
   "metadata": {},
   "source": [
    "## Transformée inverse\n",
    "\n",
    "Si $U \\in [0; 1[$, alors $F^{-1}(U) = X$ et $X \\sim f(X)$\n",
    "\n",
    "On doit montrer que $P(X \\leq x) = F(x)$\n",
    "\n",
    "On va utiliser:\n",
    "\n",
    "$$U_{\\alpha,\\beta} \\rightarrow f_{\\alpha,\\beta}^U = \\frac{1}{\\beta-\\alpha}$$\n",
    "$$F_{\\alpha,\\beta}^U = \\int_{\\alpha}^{k} \\frac{1}{\\beta-\\alpha} dx = \\frac{k-\\alpha}{\\beta-\\alpha}$$\n",
    "$$F_{0,1}^U = k$$\n",
    "$$P(U_{0,1} \\leq k) = F_{0,1}^U = k$$\n",
    "\n",
    "Et donc:\n",
    "\n",
    "$$P(X \\leq x) = P(F^{-1}(U_{0,1}) \\leq x) = P(U_{0,1} \\leq F(x)) = F(x)$$"
   ]
  },
  {
   "cell_type": "markdown",
   "id": "569b1555",
   "metadata": {},
   "source": [
    "## Moindres carrés\n",
    "\n",
    "Soit une distribution avec $g(r|\\theta)$ où $\\theta$ est un paramètre à estimer.\n",
    "\n",
    "$$\\chi^2 = \\sum_i \\frac{\\left(y_i - g(x_i|\\theta)\\right)^2}{\\sigma_i^2}$$\n",
    "\n",
    "Pour un histogramme:\n",
    "\n",
    "$$\\chi^2 = \\sum_i^{N_{bins}} \\frac{\\left(n_i - n_i^{pred}\\right)^2}{\\sqrt{n_i}^2}$$\n",
    "\n",
    "où $$n_i^{pred} = N \\int_{x_c - \\frac{\\Delta x}{2}}^{x_c + \\frac{\\Delta x}{2}} g(x|\\theta) dx \\approx N g(x_c | \\theta)\\Delta x$$"
   ]
  },
  {
   "cell_type": "markdown",
   "id": "d735c7ff",
   "metadata": {},
   "source": [
    "## Maximum de vraisemblance\n",
    "\n",
    "$$\\mathcal{L} = \\prod_{i=1}^N P(x_i) = \\prod_{i=1}^N f(x_i|\\mu,\\sigma)$$\n",
    "\n",
    "D'un point de vue computationnel, on préfère les sommes aux multiplications et les minimisations aux maximisations. On peut utiliser la vraisemblance réduite:\n",
    "\n",
    "$$\\mathcal{L}^{*} = - \\log \\mathcal{L} = - \\sum_{i=1}^N \\log P(x_i)$$\n",
    "\n",
    "On peut montrer que $\\hat{\\theta}$ se comporte comme une variable aléatoire telle que:\n",
    "\n",
    "$$\\mathcal{L}(\\theta) = \\frac{1}{\\sqrt{2\\pi\\sigma_{\\hat{\\theta}}}}\\exp^{-\\frac{1}{2}\\frac{(\\hat{\\theta}-\\theta)^2}{\\sigma_{\\hat{\\theta}}^2}}$$\n",
    "\n",
    "Ce qui donne:\n",
    "\n",
    "$$\\mathcal{L}^{*}(\\theta) = -\\log \\mathcal{L}(\\theta) = \\frac{1}{2} \\log \\left(\\sqrt{2\\pi\\sigma_{\\hat{\\theta}}}\\right) + \\frac{1}{2}\\frac{(\\hat{\\theta}-\\theta)^2}{\\sigma_{\\hat{\\theta}}^2}$$\n",
    "\n",
    "$$\\Rightarrow \\mathcal{L}^{*}(\\theta = \\hat{\\theta}) = \\frac{1}{2} \\log \\left(\\sqrt{2\\pi\\sigma_{\\hat{\\theta}}}\\right) = \\mathcal{L}^{*}_{min}$$\n",
    "\n",
    "$$\\Rightarrow \\mathcal{L}^{*}(\\theta = \\hat{\\theta} \\pm N\\sigma_{\\hat{\\theta}}) = \\mathcal{L}^{*}_{min} + \\frac{N^2}{2}$$"
   ]
  }
 ],
 "metadata": {
  "kernelspec": {
   "display_name": "Python 3",
   "language": "python",
   "name": "python3"
  },
  "language_info": {
   "codemirror_mode": {
    "name": "ipython",
    "version": 3
   },
   "file_extension": ".py",
   "mimetype": "text/x-python",
   "name": "python",
   "nbconvert_exporter": "python",
   "pygments_lexer": "ipython3",
   "version": "3.9.4"
  }
 },
 "nbformat": 4,
 "nbformat_minor": 5
}
